{
 "cells": [
  {
   "cell_type": "code",
   "execution_count": 1,
   "metadata": {},
   "outputs": [],
   "source": [
    "import pandas as pd\n",
    "\n",
    "bunch = pd.read_csv(\"https://raw.githubusercontent.com/madmaxeatfax/fellini/master/imdb250.csv\")"
   ]
  },
  {
   "cell_type": "code",
   "execution_count": 2,
   "metadata": {
    "pycharm": {
     "name": "#%%\n"
    }
   },
   "outputs": [
    {
     "output_type": "stream",
     "name": "stdout",
     "text": [
      "Training time 117.49183487892151s, features = 30968\n"
     ]
    }
   ],
   "source": [
    "import spacy\n",
    "from sklearn.feature_extraction.text import TfidfVectorizer\n",
    "import time\n",
    "\n",
    "class LemmaTokenizer:\n",
    "    def  __init__(self):\n",
    "        self.nlp = spacy.load(\"en\")\n",
    "    def __call__(self, text):\n",
    "        return [\n",
    "            token.lemma_ for token in self.nlp(text)\n",
    "            if not (token.is_stop or token.is_punct or token.is_digit)\n",
    "        ]\n",
    "\n",
    "start_time = time.time()\n",
    "\n",
    "vec = TfidfVectorizer(max_features=50_000, tokenizer=LemmaTokenizer())\n",
    "data = \\\n",
    "    bunch.Title + \" \" + bunch.Crew + \" \" + bunch.Plot + \" \" + \\\n",
    "    bunch.Tags + \" \" + bunch.Country + \" \" + bunch.Reviews\n",
    "\n",
    "# print([i for i, x in enumerate(data.isna()) if x == True])\n",
    "\n",
    "features = vec.fit_transform(data)\n",
    "print(f'Training time {time.time() - start_time}s, features = {len(vec.get_feature_names())}')"
   ]
  },
  {
   "cell_type": "code",
   "execution_count": 3,
   "metadata": {
    "pycharm": {
     "name": "#%%\n"
    }
   },
   "outputs": [
    {
     "output_type": "execute_result",
     "data": {
      "text/plain": [
       "NearestNeighbors(metric='cosine', n_neighbors=10)"
      ]
     },
     "metadata": {},
     "execution_count": 3
    }
   ],
   "source": [
    "from sklearn.neighbors import NearestNeighbors\n",
    "\n",
    "knn = NearestNeighbors(n_neighbors=10, metric='cosine')\n",
    "knn.fit(features)"
   ]
  },
  {
   "cell_type": "code",
   "execution_count": 4,
   "metadata": {
    "pycharm": {
     "name": "#%%\n"
    }
   },
   "outputs": [
    {
     "output_type": "stream",
     "name": "stdout",
     "text": [
      "Query = movie about banker that killed wife\n\nThe Shawshank Redemption\nDistance = 0.9119878791338835  Neighbor idx = 0\nChronicles the experiences of a formerly successful banker as a prisoner in the gloomy jailhouse of Shawshank after being found guilty of a crime he did not commit. The film portrays the man's unique \nFrank Darabont (dir.), Tim Robbins, Morgan Freeman, Stephen King, Frank Darabont\n--------------------------------------------------------------------------------------------------------------------------------------------------------------------------------------------------------\nMemento\nDistance = 0.9303349687847877  Neighbor idx = 54\nMemento chronicles two separate stories of Leonard, an ex-insurance investigator who can no longer build new memories, as he attempts to find the murderer of his wife, which is the last thing he remem\nChristopher Nolan (dir.), Guy Pearce, Carrie-Anne Moss, Christopher Nolan, Jonathan Nolan\n--------------------------------------------------------------------------------------------------------------------------------------------------------------------------------------------------------\nGone Girl\nDistance = 0.9304413088563809  Neighbor idx = 187\nOn the occasion of his fifth wedding anniversary, Nick Dunne reports that his wife, Amy, has gone missing. Under pressure from the police and a growing media frenzy, Nick's portrait of a blissful unio\nDavid Fincher (dir.), Ben Affleck, Rosamund Pike, Gillian Flynn\n--------------------------------------------------------------------------------------------------------------------------------------------------------------------------------------------------------\nDrishyam\nDistance = 0.9431963647407492  Neighbor idx = 241\nVijay Salgaonkar runs a cable TV network in a remote and hilly village of Goa. He lives a happy life with his wife Nandini and two daughters. A 4th grade dropout &amp; an orphan, Vijay has worked his \nNishikant Kamat (dir.), Ajay Devgn, Shriya Saran, Jeethu Joseph, Upendra Sidhaye\n--------------------------------------------------------------------------------------------------------------------------------------------------------------------------------------------------------\nAmerican History X\nDistance = 0.9453015479841524  Neighbor idx = 37\nDerek Vineyard is paroled after serving 3 years in prison for brutally killing two black men who tried to break into/steal his truck. Through his brother's, Danny Vineyard, narration, we learn that be\nTony Kaye (dir.), Edward Norton, Edward Furlong, David McKenna\n--------------------------------------------------------------------------------------------------------------------------------------------------------------------------------------------------------\n\nQuery execution time - 0.02041 sec\n"
     ]
    }
   ],
   "source": [
    "start_time = time.time()\n",
    "\n",
    "search_query = \"movie about banker that killed wife\"\n",
    "query_vector = vec.transform([search_query])\n",
    "print(f'Query = {search_query}\\n')\n",
    "\n",
    "distances, neighbors = knn.kneighbors(query_vector, n_neighbors=5, return_distance=True)\n",
    "    \n",
    "for dist, neighbor_idx in zip(distances[0], neighbors[0]):\n",
    "    print(*[\n",
    "        bunch.Title[neighbor_idx],\n",
    "        f'Distance = {dist}  Neighbor idx = {neighbor_idx}',\n",
    "        bunch.Plot[neighbor_idx][:200], \n",
    "        bunch.Crew[neighbor_idx],\n",
    "        \"-\"*200\n",
    "    ], sep=\"\\n\")\n",
    "\n",
    "print(f'\\nQuery execution time - {time.time() - start_time:.5f} sec')\n"
   ]
  }
 ],
 "metadata": {
  "kernelspec": {
   "name": "python3",
   "display_name": "Python 3.9.0 64-bit",
   "metadata": {
    "interpreter": {
     "hash": "ac2eaa0ea0ebeafcc7822e65e46aa9d4f966f30b695406963e145ea4a91cd4fc"
    }
   }
  },
  "language_info": {
   "codemirror_mode": {
    "name": "ipython",
    "version": 3
   },
   "file_extension": ".py",
   "mimetype": "text/x-python",
   "name": "python",
   "nbconvert_exporter": "python",
   "pygments_lexer": "ipython3",
   "version": "3.9.0-final"
  }
 },
 "nbformat": 4,
 "nbformat_minor": 1
}