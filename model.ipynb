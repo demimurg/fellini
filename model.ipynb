{
 "cells": [
  {
   "cell_type": "code",
   "execution_count": 1,
   "metadata": {},
   "outputs": [],
   "source": [
    "# choose language (affect dataset)\n",
    "RU, EN = \"russian\", \"english\"\n",
    "engine = RU"
   ]
  },
  {
   "cell_type": "code",
   "execution_count": 5,
   "metadata": {
    "pycharm": {
     "name": "#%%\n"
    }
   },
   "outputs": [
    {
     "output_type": "stream",
     "name": "stderr",
     "text": [
      "[nltk_data] Downloading package stopwords to /Users/madma/nltk_data...\n[nltk_data]   Package stopwords is already up-to-date!\n"
     ]
    }
   ],
   "source": [
    "import spacy\n",
    "import nltk\n",
    "import pandas as pd\n",
    "from pymystem3 import Mystem\n",
    "from string import punctuation\n",
    "\n",
    "class EnLemmaTokenizer:\n",
    "    def  __init__(self):\n",
    "        self.nlp = spacy.load(\"en\")\n",
    "    def __call__(self, text):\n",
    "        return [\n",
    "            token.lemma_ for token in self.nlp(text)\n",
    "            if not (token.is_stop or token.is_punct or token.is_digit)\n",
    "        ]\n",
    "\n",
    "class RuLemmaTokenizer:\n",
    "    def  __init__(self):\n",
    "        nltk.download(\"stopwords\")\n",
    "        self.stopwords = nltk.corpus.stopwords.words(\"russian\")\n",
    "        self.lemma = Mystem().lemmatize\n",
    "    def __call__(self, text):\n",
    "        return [\n",
    "            token for token in self.lemma(text)\n",
    "            if token not in self.stopwords and token not in punctuation\n",
    "        ]\n",
    "\n",
    "kp_dataset = \"https://raw.githubusercontent.com/madmaxeatfax/fellini/master/dataset/kp250.csv\"\n",
    "imdb_dataset = \"https://raw.githubusercontent.com/madmaxeatfax/fellini/master/dataset/imdb250.csv\"\n",
    "\n",
    "lemma_tokenizer = EnLemmaTokenizer() if engine == EN else RuLemmaTokenizer()\n",
    "bunch = pd.read_csv(imdb_dataset if engine == EN else kp_dataset)\n",
    "bunch.fillna(\"\", inplace=True)"
   ]
  },
  {
   "cell_type": "code",
   "execution_count": 6,
   "metadata": {},
   "outputs": [
    {
     "output_type": "stream",
     "name": "stdout",
     "text": [
      "Training time 62.92034935951233s, features number = 34291\n['\\t', '\\t ', '\\n', ' ', ' \\t', ' \\t\\t ', ' \\t ', ' \\t- ', ' \\t«', ' \\n', '  ', '  \\t', '   ', '   -', '   «', '  (', '  *', '  *** ', '  -', '  - ', '  «', '  « — ', '  «- ', '  •\\t', ' % ', ' %) ', ' &', ' & ', \" ' \", ' (']\n"
     ]
    }
   ],
   "source": [
    "from sklearn.feature_extraction.text import TfidfVectorizer\n",
    "import time\n",
    "\n",
    "start_time = time.time()\n",
    "\n",
    "vec = TfidfVectorizer(max_features=50_000, tokenizer=lemma_tokenizer)\n",
    "data = \\\n",
    "    bunch.Title + \" \" + bunch.Crew + \" \" + bunch.Plot + \" \" + \\\n",
    "    bunch.Tags + \" \" + bunch.Country + \" \" + bunch.Reviews\n",
    "\n",
    "# print([i for i, x in enumerate(data.isna()) if x == True])\n",
    "\n",
    "features = vec.fit_transform(data)\n",
    "\n",
    "print(f'Training time {time.time() - start_time}s, features number = {len(vec.get_feature_names())}')"
   ]
  },
  {
   "cell_type": "code",
   "execution_count": 7,
   "metadata": {
    "pycharm": {
     "name": "#%%\n"
    }
   },
   "outputs": [
    {
     "output_type": "execute_result",
     "data": {
      "text/plain": [
       "NearestNeighbors(metric='cosine', n_neighbors=10)"
      ]
     },
     "metadata": {},
     "execution_count": 7
    }
   ],
   "source": [
    "from sklearn.neighbors import NearestNeighbors\n",
    "\n",
    "knn = NearestNeighbors(n_neighbors=10, metric='cosine')\n",
    "knn.fit(features)"
   ]
  },
  {
   "cell_type": "code",
   "execution_count": 28,
   "metadata": {
    "pycharm": {
     "name": "#%%\n"
    }
   },
   "outputs": [
    {
     "output_type": "stream",
     "name": "stdout",
     "text": [
      "Query = фильм про бухгалтера, который попал в тюрьму\n\nПобег из Шоушенка \nDistance = 0.34035973064960356  Neighbor idx = 0\nБухгалтер Энди Дюфрейн обвинён в убийстве собственной жены и её любовника. Оказавшись в тюрьме под названием Шоушенк, он сталкивается с жестокостью и беззаконием, царящими по обе стороны решётки. Кажд\n Фрэнк Дарабонт,  Фрэнк Дарабонт,  Стивен Кинг, Тим Роббинс, Морган Фриман, Боб Гантон, Уильям Сэдлер, Клэнси Браун\n--------------------------------------------------------------------------------------------------------------------------------------------------------------------------------------------------------\nЗеленая миля \nDistance = 0.34283875151600596  Neighbor idx = 1\nПол Эджкомб — начальник блока смертников в тюрьме «Холодная гора», каждый из узников которого однажды проходит «зеленую милю» по пути к месту казни. Пол повидал много заключённых и надзирателей за вре\n Фрэнк Дарабонт,  Фрэнк Дарабонт,  Стивен Кинг, Том Хэнкс, Дэвид Морс, Бонни Хант, Майкл Кларк Дункан, Джеймс Кромуэлл\n--------------------------------------------------------------------------------------------------------------------------------------------------------------------------------------------------------\nАмериканская история X \nDistance = 0.34848176942702247  Neighbor idx = 33\nЛидер местной банды скинхедов Дерек Виньярд прочно удерживает авторитет в своём районе. Убеждённый в своей правоте, он беспощадно расправляется с теми, кто имеет не белый цвет кожи. Независимость и см\n Тони Кэй,  Дэвид МакКенна, Эдвард Нортон, Эдвард Ферлонг, Беверли Д’Анджело, Дженнифер Лиен, Итан Сапли\n--------------------------------------------------------------------------------------------------------------------------------------------------------------------------------------------------------\nДжентльмены удачи \nDistance = 0.34863889541193527  Neighbor idx = 34\nЗаведующему детсадом Трошкину фатально не повезло: он оказался как две капли воды похож на бандита по кличке «Доцент», похитившего уникальный шлем Александра Македонского.Милиция внедряет добряка Трош\n Александр Серый,  Георгий Данелия,  Виктория Токарева, Евгений Леонов, Георгий Вицин, Раднэр Муратов, Савелий Крамаров, Наталья Фатеева\n--------------------------------------------------------------------------------------------------------------------------------------------------------------------------------------------------------\nУраган \nDistance = 0.34924332951449844  Neighbor idx = 217\nФильм основан на реальных фактах из жизни боксера Рубина Картера по прозвищу «Ураган» — главного претендента на чемпионский титул в среднем весе в июне 1966 года. После убийства трех человек в одном и\n Норман Джуисон,  Эрмиан Бернштейн,  Дэн Гордон,  Рубин Картер, ..., Дензел Вашингтон, Виселос Реон Шеннон, Дебора Кара Ангер, Лив Шрайбер, Джон Ханна\n--------------------------------------------------------------------------------------------------------------------------------------------------------------------------------------------------------\n\nQuery execution time - 0.01628 sec\n"
     ]
    }
   ],
   "source": [
    "# input your search query\n",
    "QUERY = \"фильм про бухгалтера, который попал в тюрьму\"\n",
    "\n",
    "start_time = time.time()\n",
    "query_vector = vec.transform([QUERY])\n",
    "print(f'Query = {QUERY}\\n')\n",
    "\n",
    "distances, neighbors = knn.kneighbors(query_vector, n_neighbors=5, return_distance=True)\n",
    "    \n",
    "for dist, neighbor_idx in zip(distances[0], neighbors[0]):\n",
    "    print(*[\n",
    "        bunch.Title[neighbor_idx],\n",
    "        f'Distance = {dist}  Neighbor idx = {neighbor_idx}',\n",
    "        bunch.Plot[neighbor_idx][:200], \n",
    "        bunch.Crew[neighbor_idx],\n",
    "        \"-\"*200\n",
    "    ], sep=\"\\n\")\n",
    "\n",
    "print(f'\\nQuery execution time - {time.time() - start_time:.5f} sec')\n"
   ]
  },
  {
   "cell_type": "code",
   "execution_count": null,
   "metadata": {},
   "outputs": [],
   "source": []
  }
 ],
 "metadata": {
  "kernelspec": {
   "name": "python3",
   "display_name": "Python 3.9.0 64-bit",
   "metadata": {
    "interpreter": {
     "hash": "ac2eaa0ea0ebeafcc7822e65e46aa9d4f966f30b695406963e145ea4a91cd4fc"
    }
   }
  },
  "language_info": {
   "codemirror_mode": {
    "name": "ipython",
    "version": 3
   },
   "file_extension": ".py",
   "mimetype": "text/x-python",
   "name": "python",
   "nbconvert_exporter": "python",
   "pygments_lexer": "ipython3",
   "version": "3.9.0-final"
  }
 },
 "nbformat": 4,
 "nbformat_minor": 1
}