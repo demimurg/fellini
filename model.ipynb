{
 "cells": [
  {
   "cell_type": "code",
   "execution_count": 48,
   "metadata": {},
   "outputs": [],
   "source": [
    "import pandas as pd\n",
    "\n",
    "bunch = pd.read_csv(\"./imdb250.csv\")"
   ]
  },
  {
   "cell_type": "code",
   "execution_count": 49,
   "metadata": {
    "pycharm": {
     "name": "#%%\n"
    }
   },
   "outputs": [
    {
     "output_type": "stream",
     "name": "stdout",
     "text": [
      "Training time 115.29158687591553s, features = 30968\n"
     ]
    }
   ],
   "source": [
    "import spacy\n",
    "from sklearn.feature_extraction.text import TfidfVectorizer\n",
    "import time\n",
    "\n",
    "class LemmaTokenizer:\n",
    "    def  __init__(self):\n",
    "        self.nlp = spacy.load(\"en\")\n",
    "    def __call__(self, text):\n",
    "        return [\n",
    "            token.lemma_ for token in self.nlp(text)\n",
    "            if not (token.is_stop or token.is_punct or token.is_digit)\n",
    "        ]\n",
    "\n",
    "start_time = time.time()\n",
    "\n",
    "vec = TfidfVectorizer(max_features=50_000, tokenizer=LemmaTokenizer())\n",
    "data = \\\n",
    "    bunch.Title + \" \" + bunch.Crew + \" \" + bunch.Plot + \" \" + \\\n",
    "    bunch.Tags + \" \" + bunch.Country + \" \" + bunch.Reviews\n",
    "\n",
    "# print([i for i, x in enumerate(data.isna()) if x == True])\n",
    "\n",
    "features = vec.fit_transform(data)\n",
    "print(f'Training time {time.time() - start_time}s, features = {len(vec.get_feature_names())}')"
   ]
  },
  {
   "cell_type": "code",
   "execution_count": 50,
   "metadata": {
    "pycharm": {
     "name": "#%%\n"
    }
   },
   "outputs": [
    {
     "output_type": "execute_result",
     "data": {
      "text/plain": [
       "NearestNeighbors(metric='cosine', n_neighbors=10)"
      ]
     },
     "metadata": {},
     "execution_count": 50
    }
   ],
   "source": [
    "from sklearn.neighbors import NearestNeighbors\n",
    "\n",
    "knn = NearestNeighbors(n_neighbors=10, metric='cosine')\n",
    "knn.fit(features)"
   ]
  },
  {
   "cell_type": "code",
   "execution_count": 51,
   "metadata": {
    "pycharm": {
     "name": "#%%\n"
    }
   },
   "outputs": [
    {
     "output_type": "stream",
     "name": "stdout",
     "text": [
      "Input text =  fat people in space \n\n2001: A Space Odyssey\nDistance =  0.8603749375853135 Neighbor idx =  89\n\"2001\" is a story of evolution. Sometime in the distant past, someone or something nudged evolution by placing a monolith on Earth (presumably elsewhere throughout the universe as well). Evolution the\nStanley Kubrick (dir.), Keir Dullea, Gary Lockwood, Stanley Kubrick, Arthur C. Clarke\n--------------------------------------------------------------------------------------------------------------------------------------------------------------------------------------------------------\nInterstellar\nDistance =  0.9156629193896471 Neighbor idx =  28\nEarth's future has been riddled by disasters, famines, and droughts. There is only one way to ensure mankind's survival: Interstellar travel. A newly discovered wormhole in the far reaches of our sola\nChristopher Nolan (dir.), Matthew McConaughey, Anne Hathaway, Jonathan Nolan, Christopher Nolan\n--------------------------------------------------------------------------------------------------------------------------------------------------------------------------------------------------------\nAlien\nDistance =  0.9478510412138645 Neighbor idx =  52\nIn the distant future, the crew of the commercial spaceship Nostromo are on their way home when they pick up a distress call from a distant moon. The crew are under obligation to investigate and the s\nRidley Scott (dir.), Sigourney Weaver, Tom Skerritt, Dan O'Bannon, Ronald Shusett\n--------------------------------------------------------------------------------------------------------------------------------------------------------------------------------------------------------\nStar Wars: Episode IV - A New Hope\nDistance =  0.9554318621273276 Neighbor idx =  24\nThe Imperial Forces, under orders from cruel Darth Vader, hold Princess Leia hostage in their efforts to quell the rebellion against the Galactic Empire. Luke Skywalker and Han Solo, captain of the Mi\nGeorge Lucas (dir.), Mark Hamill, Harrison Ford, George Lucas\n--------------------------------------------------------------------------------------------------------------------------------------------------------------------------------------------------------\nStand by Me\nDistance =  0.9634537851653235 Neighbor idx =  209\nIt's the summer of 1959 in Castlerock, Oregon and four 12 year-old boys - Gordie, Chris, Teddy and Vern - are fast friends. After learning of the general location of the body of a local boy who has be\nRob Reiner (dir.), Wil Wheaton, River Phoenix, Stephen King, Raynold Gideon, Bruce A. Evans\n--------------------------------------------------------------------------------------------------------------------------------------------------------------------------------------------------------\n========================================================================================================================================================================================================\n\nQuery execution time - 0.03270 sec\n"
     ]
    }
   ],
   "source": [
    "start_time = time.time()\n",
    "\n",
    "input_texts = [\"movie about banker that killed wife\"]\n",
    "input_features = vec.transform(input_texts)\n",
    "\n",
    "D, N = knn.kneighbors(input_features, n_neighbors=5, return_distance=True)\n",
    "\n",
    "for input_text, distances, neighbors in zip(input_texts, D, N):\n",
    "    print(\"Input text = \", input_text, \"\\n\")\n",
    "    for dist, neighbor_idx in zip(distances, neighbors):\n",
    "        print(bunch.Title[neighbor_idx])\n",
    "        print(\"Distance = \", dist, \"Neighbor idx = \", neighbor_idx)\n",
    "        print(bunch.Plot[neighbor_idx][:200])\n",
    "        print(bunch.Crew[neighbor_idx])\n",
    "        print(\"-\"*200)\n",
    "    print(\"=\"*200)\n",
    "    print()\n",
    "print(f'Query execution time - {time.time() - start_time:.5f} sec')\n"
   ]
  }
 ],
 "metadata": {
  "kernelspec": {
   "name": "python3",
   "display_name": "Python 3.8.3 64-bit ('base': conda)",
   "metadata": {
    "interpreter": {
     "hash": "f85c0ae1067a86ad6a96b144378883e79fd1516474b579ba33ee3a7084540002"
    }
   }
  },
  "language_info": {
   "codemirror_mode": {
    "name": "ipython",
    "version": 3
   },
   "file_extension": ".py",
   "mimetype": "text/x-python",
   "name": "python",
   "nbconvert_exporter": "python",
   "pygments_lexer": "ipython3",
   "version": "3.8.3-final"
  }
 },
 "nbformat": 4,
 "nbformat_minor": 1
}