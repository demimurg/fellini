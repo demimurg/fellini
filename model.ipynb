{
 "cells": [
  {
   "cell_type": "code",
   "execution_count": 1,
   "metadata": {},
   "outputs": [],
   "source": [
    "import pandas as pd\n",
    "\n",
    "bunch = pd.read_csv(\"https://raw.githubusercontent.com/madmaxeatfax/fellini/master/imdb250.csv\")"
   ]
  },
  {
   "cell_type": "code",
   "execution_count": 2,
   "metadata": {
    "pycharm": {
     "name": "#%%\n"
    }
   },
   "outputs": [
    {
     "output_type": "stream",
     "name": "stdout",
     "text": [
      "Training time 115.94822192192078s, features = 30968\n"
     ]
    }
   ],
   "source": [
    "import spacy\n",
    "from sklearn.feature_extraction.text import TfidfVectorizer\n",
    "import time\n",
    "\n",
    "class LemmaTokenizer:\n",
    "    def  __init__(self):\n",
    "        self.nlp = spacy.load(\"en\")\n",
    "    def __call__(self, text):\n",
    "        return [\n",
    "            token.lemma_ for token in self.nlp(text)\n",
    "            if not (token.is_stop or token.is_punct or token.is_digit)\n",
    "        ]\n",
    "\n",
    "start_time = time.time()\n",
    "\n",
    "vec = TfidfVectorizer(max_features=50_000, tokenizer=LemmaTokenizer())\n",
    "data = \\\n",
    "    bunch.Title + \" \" + bunch.Crew + \" \" + bunch.Plot + \" \" + \\\n",
    "    bunch.Tags + \" \" + bunch.Country + \" \" + bunch.Reviews\n",
    "\n",
    "# print([i for i, x in enumerate(data.isna()) if x == True])\n",
    "\n",
    "features = vec.fit_transform(data)\n",
    "print(f'Training time {time.time() - start_time}s, features = {len(vec.get_feature_names())}')"
   ]
  },
  {
   "cell_type": "code",
   "execution_count": 3,
   "metadata": {
    "pycharm": {
     "name": "#%%\n"
    }
   },
   "outputs": [
    {
     "output_type": "execute_result",
     "data": {
      "text/plain": [
       "NearestNeighbors(metric='cosine', n_neighbors=10)"
      ]
     },
     "metadata": {},
     "execution_count": 3
    }
   ],
   "source": [
    "from sklearn.neighbors import NearestNeighbors\n",
    "\n",
    "knn = NearestNeighbors(n_neighbors=10, metric='cosine')\n",
    "knn.fit(features)"
   ]
  },
  {
   "cell_type": "code",
   "execution_count": 7,
   "metadata": {
    "pycharm": {
     "name": "#%%\n"
    }
   },
   "outputs": [
    {
     "output_type": "stream",
     "name": "stdout",
     "text": [
      "Query = very funny\n\nThe Circus\nDistance = 0.9167930337795042  Neighbor idx = 246\nThe Tramp finds himself at a circus where he is promptly chased around by the police who think he is a pickpocket. Running into the Bigtop, he is an accidental sensation with his hilarious efforts to \nCharles Chaplin (dir.), Charles Chaplin, Merna Kennedy, Charles Chaplin\n--------------------------------------------------------------------------------------------------------------------------------------------------------------------------------------------------------\nLock, Stock and Two Smoking Barrels\nDistance = 0.9326207788635541  Neighbor idx = 143\nFour Jack-the-lads find themselves heavily - seriously heavily - in debt to an East End hard man and his enforcers after a crooked card game. Overhearing their neighbours in the next flat plotting to \nGuy Ritchie (dir.), Jason Flemyng, Dexter Fletcher, Guy Ritchie\n--------------------------------------------------------------------------------------------------------------------------------------------------------------------------------------------------------\nMonty Python's Life of Brian\nDistance = 0.9400128193161129  Neighbor idx = 220\nThe story of Brian of Nazareth (Graham Chapman), born on the same day as Jesus of Nazareth, who takes a different path in life that leads to the same conclusion. Brian joins a political resistance mov\nTerry Jones (dir.), Graham Chapman, John Cleese, Graham Chapman, John Cleese, Terry Gilliam, Eric Idle, Terry Jones, Michael Palin\n--------------------------------------------------------------------------------------------------------------------------------------------------------------------------------------------------------\nSome Like It Hot\nDistance = 0.94455870297321  Neighbor idx = 134\nAfter two Chicago musicians, Joe and Jerry, witness the the St. Valentine's Day massacre, they want to get out of town and get away from the gangster responsible, Spats Colombo. They're desperate to g\nBilly Wilder (dir.), Marilyn Monroe, Tony Curtis, Billy Wilder, I.A.L. Diamond, Robert Thoeren, Michael Logan\n--------------------------------------------------------------------------------------------------------------------------------------------------------------------------------------------------------\nTo Be or Not to Be\nDistance = 0.9460112327153023  Neighbor idx = 196\nIn occupied Poland during WWII, a troupe of ham stage actors (led by Joseph Tura and his wife Maria) match wits with the Nazis. A spy has information which would be very damaging to the Polish resista\nErnst Lubitsch (dir.), Carole Lombard, Jack Benny, Melchior Lengyel, Edwin Justus Mayer, Ernst Lubitsch\n--------------------------------------------------------------------------------------------------------------------------------------------------------------------------------------------------------\n\nQuery execution time - 0.01788 sec\n"
     ]
    }
   ],
   "source": [
    "start_time = time.time()\n",
    "\n",
    "search_query = \"very funny\"\n",
    "query_vector = vec.transform([search_query])\n",
    "print(f'Query = {search_query}\\n')\n",
    "\n",
    "distances, neighbors = knn.kneighbors(query_vector, n_neighbors=5, return_distance=True)\n",
    "    \n",
    "for dist, neighbor_idx in zip(distances[0], neighbors[0]):\n",
    "    print(*[\n",
    "        bunch.Title[neighbor_idx],\n",
    "        f'Distance = {dist}  Neighbor idx = {neighbor_idx}',\n",
    "        bunch.Plot[neighbor_idx][:200], \n",
    "        bunch.Crew[neighbor_idx],\n",
    "        \"-\"*200\n",
    "    ], sep=\"\\n\")\n",
    "\n",
    "print(f'\\nQuery execution time - {time.time() - start_time:.5f} sec')\n"
   ]
  },
  {
   "cell_type": "code",
   "execution_count": null,
   "metadata": {},
   "outputs": [],
   "source": []
  }
 ],
 "metadata": {
  "kernelspec": {
   "name": "python3",
   "display_name": "Python 3.9.0 64-bit",
   "metadata": {
    "interpreter": {
     "hash": "ac2eaa0ea0ebeafcc7822e65e46aa9d4f966f30b695406963e145ea4a91cd4fc"
    }
   }
  },
  "language_info": {
   "codemirror_mode": {
    "name": "ipython",
    "version": 3
   },
   "file_extension": ".py",
   "mimetype": "text/x-python",
   "name": "python",
   "nbconvert_exporter": "python",
   "pygments_lexer": "ipython3",
   "version": "3.9.0-final"
  }
 },
 "nbformat": 4,
 "nbformat_minor": 1
}