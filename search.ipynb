{
 "cells": [
  {
   "cell_type": "code",
   "execution_count": 1,
   "metadata": {},
   "outputs": [],
   "source": [
    "from enum import Enum\n",
    "class Lang(Enum):\n",
    "    EN = 1\n",
    "    RU = 2\n",
    "\n",
    "# choose language (affect movie dataset)\n",
    "ENGINE = Lang.RU"
   ]
  },
  {
   "cell_type": "code",
   "execution_count": 2,
   "metadata": {},
   "outputs": [
    {
     "output_type": "stream",
     "name": "stdout",
     "text": [
      "fish: Missing end to balance this if statement\nif [[\"$OSTYPE\" == \"linux-gnu\"]]; then wget http://download.cdn.yandex.net/mystem/mystem-3.0-linux3.1-64bit.tar.gz && tar -xvf mystem-3.0-linux3.1-64bit.tar.gz && cp mystem /bin; fi\n^\n\n"
     ]
    }
   ],
   "source": [
    "# solve problem with mystem package in google colab\n",
    "!if [[\"$OSTYPE\" == \"linux-gnu\"]]; then wget http://download.cdn.yandex.net/mystem/mystem-3.0-linux3.1-64bit.tar.gz && tar -xvf mystem-3.0-linux3.1-64bit.tar.gz && cp mystem /bin; fi"
   ]
  },
  {
   "cell_type": "code",
   "execution_count": 3,
   "metadata": {
    "pycharm": {
     "name": "#%%\n"
    }
   },
   "outputs": [],
   "source": [
    "import spacy\n",
    "import pandas as pd\n",
    "from pymystem3 import Mystem\n",
    "\n",
    "def abs_filepath(file):\n",
    "    if 'google.colab' in str(get_ipython()):\n",
    "        return \"https://raw.githubusercontent.com/madmaxeatfax/fellini/master/datasets/\" + file\n",
    "    return \"./datasets/\" + file\n",
    "\n",
    "def get_stopwords(lang):\n",
    "    f = open(abs_filepath(f\"stopwords_{lang}.txt\"))\n",
    "    stopwords = set()\n",
    "    for word in f:\n",
    "        stopwords.add(word.rstrip())\n",
    "    f.close()\n",
    "    return stopwords\n",
    "\n",
    "\n",
    "class EnLemmaTokenizer:\n",
    "    def  __init__(self):\n",
    "        self.nlp = spacy.load(\"en\")\n",
    "        self.stopwords = get_stopwords(\"en\")\n",
    "    def __call__(self, text):\n",
    "        return [\n",
    "            token.lemma_ for token in self.nlp(text)\n",
    "            if token.lemma_ not in self.stopwords \n",
    "            and token.lemma_[0].isalpha()\n",
    "        ]\n",
    "\n",
    "class RuLemmaTokenizer:\n",
    "    def  __init__(self):\n",
    "        self.lemma = Mystem().lemmatize\n",
    "        self.stopwords = get_stopwords(\"ru\")\n",
    "    def __call__(self, text):\n",
    "        return [\n",
    "            token for token in self.lemma(text)\n",
    "            if token not in self.stopwords and token[0].isalpha()\n",
    "        ]\n",
    "\n",
    "lemma_tokenizer = EnLemmaTokenizer() if ENGINE == Lang.EN else RuLemmaTokenizer()\n",
    "\n",
    "kp_dataset, imdb_dataset = abs_filepath(\"kp250.csv\"), abs_filepath(\"imdb250.csv\")\n",
    "bunch = pd.read_csv(imdb_dataset if ENGINE == Lang.EN else kp_dataset)\n",
    "bunch.fillna(\"\", inplace=True)"
   ]
  },
  {
   "cell_type": "code",
   "execution_count": 4,
   "metadata": {},
   "outputs": [
    {
     "output_type": "stream",
     "name": "stdout",
     "text": [
      "Dictionary size = 33448\nCPU times: user 7.45 s, sys: 397 ms, total: 7.85 s\nWall time: 1min 1s\n"
     ]
    }
   ],
   "source": [
    "%%time\n",
    "from sklearn.feature_extraction.text import TfidfVectorizer\n",
    "\n",
    "vec = TfidfVectorizer(max_features=50_000, tokenizer=lemma_tokenizer)\n",
    "data = \\\n",
    "    bunch.Title + \" \" + bunch.Crew + \" \" + bunch.Plot + \" \" + \\\n",
    "    bunch.Tags + \" \" + bunch.Country + \" \" + bunch.Reviews\n",
    "\n",
    "features = vec.fit_transform(data)\n",
    "\n",
    "words = vec.get_feature_names()\n",
    "print(f'Dictionary size = {len(words)}')"
   ]
  },
  {
   "cell_type": "code",
   "execution_count": 5,
   "metadata": {
    "pycharm": {
     "name": "#%%\n"
    }
   },
   "outputs": [
    {
     "output_type": "execute_result",
     "data": {
      "text/plain": [
       "NearestNeighbors(metric='cosine')"
      ]
     },
     "metadata": {},
     "execution_count": 5
    }
   ],
   "source": [
    "from sklearn.neighbors import NearestNeighbors\n",
    "\n",
    "knn = NearestNeighbors(n_neighbors=5, metric='cosine')\n",
    "knn.fit(features)"
   ]
  },
  {
   "cell_type": "code",
   "execution_count": 6,
   "metadata": {
    "pycharm": {
     "name": "#%%\n"
    }
   },
   "outputs": [
    {
     "output_type": "stream",
     "name": "stdout",
     "text": [
      "Query = 'фильм в котором бухгалтер убил свою жену и отправился в тюрьму'\nTokens =  ['бухгалтер', 'убивать', 'свой', 'жена', 'отправляться', 'тюрьма']\n\nПобег из Шоушенка \nDistance = 0.8320742839978136  Neighbor idx = 0\nБухгалтер Энди Дюфрейн обвинён в убийстве собственной жены и её любовника. Оказавшись в тюрьме под названием Шоушенк, он сталкивается с жестокостью и беззаконием, царящими по обе стороны решётки. Кажд\n Фрэнк Дарабонт,  Фрэнк Дарабонт,  Стивен Кинг, Тим Роббинс, Морган Фриман, Боб Гантон, Уильям Сэдлер, Клэнси Браун\n--------------------------------------------------------------------------------------------------------------------------------------------------------------------------------------------------------\nЗеленая миля \nDistance = 0.8579762353369685  Neighbor idx = 1\nПол Эджкомб — начальник блока смертников в тюрьме «Холодная гора», каждый из узников которого однажды проходит «зеленую милю» по пути к месту казни. Пол повидал много заключённых и надзирателей за вре\n Фрэнк Дарабонт,  Фрэнк Дарабонт,  Стивен Кинг, Том Хэнкс, Дэвид Морс, Бонни Хант, Майкл Кларк Дункан, Джеймс Кромуэлл\n--------------------------------------------------------------------------------------------------------------------------------------------------------------------------------------------------------\nАмериканская история X \nDistance = 0.9426447536024394  Neighbor idx = 33\nЛидер местной банды скинхедов Дерек Виньярд прочно удерживает авторитет в своём районе. Убеждённый в своей правоте, он беспощадно расправляется с теми, кто имеет не белый цвет кожи. Независимость и см\n Тони Кэй,  Дэвид МакКенна, Эдвард Нортон, Эдвард Ферлонг, Беверли Д’Анджело, Дженнифер Лиен, Итан Сапли\n--------------------------------------------------------------------------------------------------------------------------------------------------------------------------------------------------------\nДжентльмены удачи \nDistance = 0.946234212449923  Neighbor idx = 34\nЗаведующему детсадом Трошкину фатально не повезло: он оказался как две капли воды похож на бандита по кличке «Доцент», похитившего уникальный шлем Александра Македонского.Милиция внедряет добряка Трош\n Александр Серый,  Георгий Данелия,  Виктория Токарева, Евгений Леонов, Георгий Вицин, Раднэр Муратов, Савелий Крамаров, Наталья Фатеева\n--------------------------------------------------------------------------------------------------------------------------------------------------------------------------------------------------------\nУраган \nDistance = 0.9495986615234164  Neighbor idx = 217\nФильм основан на реальных фактах из жизни боксера Рубина Картера по прозвищу «Ураган» — главного претендента на чемпионский титул в среднем весе в июне 1966 года. После убийства трех человек в одном и\n Норман Джуисон,  Эрмиан Бернштейн,  Дэн Гордон,  Рубин Картер, ..., Дензел Вашингтон, Виселос Реон Шеннон, Дебора Кара Ангер, Лив Шрайбер, Джон Ханна\n--------------------------------------------------------------------------------------------------------------------------------------------------------------------------------------------------------\nCPU times: user 13.6 ms, sys: 5.08 ms, total: 18.7 ms\nWall time: 22.2 ms\n"
     ]
    }
   ],
   "source": [
    "%%time\n",
    "\n",
    "# write your search query\n",
    "QUERY = \"фильм в котором бухгалтер убил свою жену и отправился в тюрьму\"\n",
    "query_vector = vec.transform([QUERY])\n",
    "print(f'Query = \\'{QUERY}\\'\\nTokens =  {lemma_tokenizer(QUERY)}\\n')\n",
    "\n",
    "distances, neighbors = knn.kneighbors(query_vector, return_distance=True)\n",
    "    \n",
    "for dist, neighbor_idx in zip(distances[0], neighbors[0]):\n",
    "    print(*[\n",
    "        bunch.Title[neighbor_idx],\n",
    "        f'Distance = {dist}  Neighbor idx = {neighbor_idx}',\n",
    "        bunch.Plot[neighbor_idx][:200], \n",
    "        bunch.Crew[neighbor_idx],\n",
    "        \"-\"*200\n",
    "    ], sep=\"\\n\")\n"
   ]
  }
 ],
 "metadata": {
  "kernelspec": {
   "name": "python3",
   "display_name": "Python 3.9.0 64-bit",
   "metadata": {
    "interpreter": {
     "hash": "ac2eaa0ea0ebeafcc7822e65e46aa9d4f966f30b695406963e145ea4a91cd4fc"
    }
   }
  },
  "language_info": {
   "codemirror_mode": {
    "name": "ipython",
    "version": 3
   },
   "file_extension": ".py",
   "mimetype": "text/x-python",
   "name": "python",
   "nbconvert_exporter": "python",
   "pygments_lexer": "ipython3",
   "version": "3.9.0-final"
  }
 },
 "nbformat": 4,
 "nbformat_minor": 1
}