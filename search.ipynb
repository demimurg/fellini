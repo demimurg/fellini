{
 "cells": [
  {
   "cell_type": "code",
   "execution_count": 41,
   "metadata": {},
   "outputs": [],
   "source": [
    "from enum import Enum\n",
    "class Lang(Enum):\n",
    "    en = 1\n",
    "    ru = 2\n",
    "\n",
    "# choose language (affect movie dataset)\n",
    "ENGINE = Lang.ru"
   ]
  },
  {
   "cell_type": "code",
   "execution_count": 42,
   "metadata": {},
   "outputs": [
    {
     "name": "stdout",
     "output_type": "stream",
     "text": [
      "fish: Missing end to balance this if statement\r\n",
      "if [[ \"$OSTYPE\" == \"linux-gnu\" ]]; then wget http://download.cdn.yandex.net/mystem/mystem-3.0-linux3.1-64bit.tar.gz && tar -xvf mystem-3.0-linux3.1-64bit.tar.gz && cp mystem /bin; fi\r\n",
      "^\r\n",
      "\r\n"
     ]
    }
   ],
   "source": [
    "# solve problem with mystem package in google colab\n",
    "!if [[ \"$OSTYPE\" == \"linux-gnu\" ]]; then wget http://download.cdn.yandex.net/mystem/mystem-3.0-linux3.1-64bit.tar.gz && tar -xvf mystem-3.0-linux3.1-64bit.tar.gz && cp mystem /bin; fi"
   ]
  },
  {
   "cell_type": "code",
   "execution_count": 43,
   "metadata": {
    "pycharm": {
     "name": "#%%\n"
    }
   },
   "outputs": [],
   "source": [
    "import spacy\n",
    "import requests\n",
    "import pandas as pd\n",
    "from pymystem3 import Mystem\n",
    "\n",
    "COLAB_ENV = \"google.colab\" in str(get_ipython())\n",
    "ENV_PREFIX = \"https://raw.githubusercontent.com/demimurg/fellini/master/datasets/\" if COLAB_ENV else \"./datasets/\"\n",
    "\n",
    "\n",
    "def get_stopwords():\n",
    "    path = ENV_PREFIX + f\"stopwords_{ENGINE.name}.txt\"\n",
    "    data = requests.get(path).text.split(\"\\n\") if COLAB_ENV else open(path)\n",
    "\n",
    "    stopwords = set()\n",
    "    for word in data:\n",
    "        stopwords.add(word.rstrip())\n",
    "    return stopwords\n",
    "\n",
    "\n",
    "class EnLemmaTokenizer:\n",
    "    def  __init__(self):\n",
    "        self.nlp = spacy.load(ENGINE.name)\n",
    "        self.stopwords = get_stopwords()\n",
    "    def __call__(self, text):\n",
    "        return [\n",
    "            token.lemma_ for token in self.nlp(text)\n",
    "            if token.lemma_ not in self.stopwords \n",
    "            and token.lemma_[0].isalpha()\n",
    "        ]\n",
    "\n",
    "class RuLemmaTokenizer:\n",
    "    def  __init__(self):\n",
    "        self.lemma = Mystem().lemmatize\n",
    "        self.stopwords = get_stopwords()\n",
    "    def __call__(self, text):\n",
    "        return [\n",
    "            token for token in self.lemma(text)\n",
    "            if token not in self.stopwords and token[0].isalpha()\n",
    "        ]\n",
    "\n",
    "lemma_tokenizer = EnLemmaTokenizer() if ENGINE == Lang.en else RuLemmaTokenizer()\n",
    "\n",
    "bunch = pd.read_csv(ENV_PREFIX + (\"imdb250.csv\" if ENGINE == Lang.en else \"kp250.csv\"))\n",
    "bunch.fillna(\"\", inplace=True)"
   ]
  },
  {
   "cell_type": "code",
   "execution_count": 44,
   "metadata": {},
   "outputs": [
    {
     "name": "stdout",
     "output_type": "stream",
     "text": [
      "Dictionary size = 36669\n",
      "CPU times: user 8.38 s, sys: 541 ms, total: 8.93 s\n",
      "Wall time: 1min 12s\n"
     ]
    }
   ],
   "source": [
    "%%time\n",
    "from sklearn.feature_extraction.text import TfidfVectorizer\n",
    "\n",
    "vec = TfidfVectorizer(max_features=50_000, tokenizer=lemma_tokenizer)\n",
    "data = \\\n",
    "    bunch.Title + \" \" + bunch.Crew + \" \" + bunch.Plot + \" \" + \\\n",
    "    bunch.Meta + \" \" + bunch.Country + \" \" + bunch.Reviews\n",
    "\n",
    "features = vec.fit_transform(data)\n",
    "\n",
    "words = vec.get_feature_names()\n",
    "print(f'Dictionary size = {len(words)}')"
   ]
  },
  {
   "cell_type": "code",
   "execution_count": 45,
   "metadata": {
    "pycharm": {
     "name": "#%%\n"
    }
   },
   "outputs": [
    {
     "data": {
      "text/plain": "NearestNeighbors(metric='cosine')"
     },
     "execution_count": 45,
     "metadata": {},
     "output_type": "execute_result"
    }
   ],
   "source": [
    "from sklearn.neighbors import NearestNeighbors\n",
    "\n",
    "knn = NearestNeighbors(n_neighbors=5, metric='cosine')\n",
    "knn.fit(features)"
   ]
  },
  {
   "cell_type": "code",
   "execution_count": 46,
   "metadata": {
    "pycharm": {
     "name": "#%%\n"
    }
   },
   "outputs": [
    {
     "name": "stdout",
     "output_type": "stream",
     "text": [
      "Query = 'Где снимался Мэл Гибсон'\n",
      "Tokens =  ['сниматься', 'мэл', 'гибсон']\n",
      "\n",
      "Храброе сердце \n",
      "Distance = 0.6319537927903942  Neighbor idx = 64\n",
      "Действие фильма начинается в 1280 году в Шотландии. Это история легендарного национального героя Уильяма Уоллеса, посвятившего себя борьбе с англичанами при короле Эдварде Длинноногом.Он рано лишился \n",
      " Мэл Гибсон,  Рэндалл Уоллес, Мэл Гибсон, Софи Марсо, Патрик МакГуэн, Энгус Макфадьен, Брендан Глисон\n",
      "--------------------------------------------------------------------------------------------------------------------------------------------------------------------------------------------------------\n",
      "Апокалипсис \n",
      "Distance = 0.6925668731345805  Neighbor idx = 213\n",
      "В фильме показана жизнь цивилизации майя до прихода испанских конкистадоров: жестокие войны с соседними племенами, человеческие жертвоприношения, загадочные мистические ритуалы. \n",
      "\n",
      "В один день рушится \n",
      " Мэл Гибсон,  Мэл Гибсон,  Фарад Сафиниа, Руди Янгблад, Далия Эрнандес, Джонатан Брюэр, Моррис Бердйеллоухэд, Карлос Эмилио Баэс\n",
      "--------------------------------------------------------------------------------------------------------------------------------------------------------------------------------------------------------\n",
      "Начало \n",
      "Distance = 0.9193719014212421  Neighbor idx = 5\n",
      "Кобб — талантливый вор, лучший из лучших в опасном искусстве извлечения: он крадет ценные секреты из глубин подсознания во время сна, когда человеческий разум наиболее уязвим. Редкие способности Кобба\n",
      " Кристофер Нолан,  Кристофер Нолан, Леонардо ДиКаприо, Джозеф Гордон-Левитт, Эллен Пейдж, Том Харди, Кэн Ватанабэ\n",
      "--------------------------------------------------------------------------------------------------------------------------------------------------------------------------------------------------------\n",
      "Артист \n",
      "Distance = 0.97702233753533  Neighbor idx = 117\n",
      "Голливуд, 1927 год. Звезда немого кино Джордж Валентайн и слышать не хочет о микрофонах на съемочной площадке. А безнадежно влюбленная в Валентайна статистка Пеппи Миллер стремительно набирает популяр\n",
      " Мишель Хазанавичус,  Мишель Хазанавичус, Жан Дюжарден, Беренис Бежо, Джон Гудман, Джеймс Кромуэлл, Пенелопа Энн Миллер\n",
      "--------------------------------------------------------------------------------------------------------------------------------------------------------------------------------------------------------\n",
      "Шестое чувство \n",
      "Distance = 0.9931811374852434  Neighbor idx = 74\n",
      "Детский психиатр Малкольм Кроу сталкивается со странным случаем: девятилетнего Коула посещают страшные видения — призраки умерших. Все эти люди когда-то были убиты, и теперь они обрушивают на малыша с\n",
      " М. Найт Шьямалан,  М. Найт Шьямалан, Брюс Уиллис, Хэйли Джоэл Осмент, Тони Коллетт, Оливия Уильямс, Тревор Морган\n",
      "--------------------------------------------------------------------------------------------------------------------------------------------------------------------------------------------------------\n",
      "CPU times: user 12.6 ms, sys: 10.6 ms, total: 23.3 ms\n",
      "Wall time: 32.6 ms\n"
     ]
    }
   ],
   "source": [
    "%%time\n",
    "\n",
    "# write your search query\n",
    "QUERY = \"Где снимался Мэл Гибсон\"\n",
    "query_vector = vec.transform([QUERY])\n",
    "print(f'Query = \\'{QUERY}\\'\\nTokens =  {lemma_tokenizer(QUERY)}\\n')\n",
    "\n",
    "distances, neighbors = knn.kneighbors(query_vector, return_distance=True)\n",
    "    \n",
    "for dist, neighbor_idx in zip(distances[0], neighbors[0]):\n",
    "    print(\n",
    "        bunch.Title[neighbor_idx],\n",
    "        f'Distance = {dist}  Neighbor idx = {neighbor_idx}',\n",
    "        bunch.Plot[neighbor_idx][:200],\n",
    "        bunch.Crew[neighbor_idx],\n",
    "        \"-\"*200, sep=\"\\n\"\n",
    "    )\n"
   ]
  }
 ],
 "metadata": {
  "kernelspec": {
   "name": "python3",
   "language": "python",
   "display_name": "Python 3"
  },
  "language_info": {
   "codemirror_mode": {
    "name": "ipython",
    "version": 3
   },
   "file_extension": ".py",
   "mimetype": "text/x-python",
   "name": "python",
   "nbconvert_exporter": "python",
   "pygments_lexer": "ipython3",
   "version": "3.9.0-final"
  }
 },
 "nbformat": 4,
 "nbformat_minor": 1
}